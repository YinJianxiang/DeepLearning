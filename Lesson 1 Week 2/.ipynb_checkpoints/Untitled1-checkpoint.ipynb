{
 "cells": [
  {
   "cell_type": "code",
   "execution_count": 2,
   "id": "8b521965",
   "metadata": {},
   "outputs": [
    {
     "name": "stdout",
     "output_type": "stream",
     "text": [
      "testHello world!\n"
     ]
    }
   ],
   "source": [
    "test = \"Hello world!\"\n",
    "print(\"test:\"+ test)"
   ]
  },
  {
   "cell_type": "code",
   "execution_count": 5,
   "id": "0aeeabdb",
   "metadata": {},
   "outputs": [
    {
     "name": "stdout",
     "output_type": "stream",
     "text": [
      "0.9525741268224334\n"
     ]
    }
   ],
   "source": [
    "#import math\n",
    "\n",
    "#def basic_sigmoid(x):\n",
    "#    s = 1 / (1+math.exp(-x))\n",
    "#    return s\n",
    "\n",
    "#a = basic_sigmoid(3)\n",
    "#print(a)"
   ]
  },
  {
   "cell_type": "code",
   "execution_count": 9,
   "id": "9c51151e",
   "metadata": {},
   "outputs": [
    {
     "name": "stdout",
     "output_type": "stream",
     "text": [
      "[2 3 4]\n",
      "[ 2.71828183  7.3890561  20.08553692]\n"
     ]
    }
   ],
   "source": [
    "import numpy as np\n",
    "\n",
    "x = np.array([1,2,3])\n",
    "\n",
    "print(x+1)\n",
    "print(np.exp(x))\n"
   ]
  },
  {
   "cell_type": "code",
   "execution_count": 15,
   "id": "4bb2667e",
   "metadata": {},
   "outputs": [
    {
     "name": "stdout",
     "output_type": "stream",
     "text": [
      "[0.73105858 0.88079708 0.95257413]\n"
     ]
    }
   ],
   "source": [
    "import numpy as np\n",
    "\n",
    "def basic_sigmoid(x):\n",
    "    s = 1/(1+np.exp(-x))\n",
    "    return s\n",
    "\n",
    "y = np.array([1,2,3])\n",
    "\n",
    "z = basic_sigmoid(y)\n",
    "\n",
    "print(z)"
   ]
  },
  {
   "cell_type": "code",
   "execution_count": 19,
   "id": "d89a3688",
   "metadata": {},
   "outputs": [
    {
     "data": {
      "text/plain": [
       "array([0.19661193, 0.10499359, 0.04517666])"
      ]
     },
     "execution_count": 19,
     "metadata": {},
     "output_type": "execute_result"
    }
   ],
   "source": [
    "import math\n",
    "\n",
    "def sigmoid_derivative(x):\n",
    "    s = basic_sigmoid(x)\n",
    "    ds = s * (1-s)\n",
    "    return ds\n",
    "\n",
    "x = np.array([1,2,3])\n",
    "sigmoid_derivative(x)"
   ]
  },
  {
   "cell_type": "code",
   "execution_count": 22,
   "id": "c74633c8",
   "metadata": {},
   "outputs": [
    {
     "data": {
      "text/plain": [
       "array([[ 1],\n",
       "       [ 2],\n",
       "       [ 3],\n",
       "       [ 4],\n",
       "       [ 5],\n",
       "       [ 6],\n",
       "       [ 7],\n",
       "       [ 8],\n",
       "       [ 9],\n",
       "       [10],\n",
       "       [11],\n",
       "       [12],\n",
       "       [13],\n",
       "       [14],\n",
       "       [15],\n",
       "       [16],\n",
       "       [17],\n",
       "       [18]])"
      ]
     },
     "execution_count": 22,
     "metadata": {},
     "output_type": "execute_result"
    }
   ],
   "source": [
    "#假定image为m*n*q维\n",
    "import numpy\n",
    "\n",
    "def image2vector(image):\n",
    "    v = image.reshape(image.shape[0] * image.shape[1] * image.shape[2],1)\n",
    "    return v\n",
    "\n",
    "image = numpy.array([[[1,2],\n",
    "    [3,4],\n",
    "    [5,6]],\n",
    "    [[7,8],\n",
    "     [9,10],   \n",
    "     [11,12]],\n",
    "    [[13,14],\n",
    "     [15,16],   \n",
    "     [17,18]]])\n",
    "\n",
    "image2vector(image)"
   ]
  },
  {
   "cell_type": "code",
   "execution_count": 27,
   "id": "5daa857c",
   "metadata": {},
   "outputs": [
    {
     "data": {
      "text/plain": [
       "array([[0.        , 0.6       , 0.8       ],\n",
       "       [0.26726124, 0.80178373, 0.53452248]])"
      ]
     },
     "execution_count": 27,
     "metadata": {},
     "output_type": "execute_result"
    }
   ],
   "source": [
    "import numpy as py\n",
    "# norm(x, ord = None, axis = None, keepdims = False)\n",
    "# 默认\n",
    "# ord = 2 sqrt(sum(xi^{2}))\n",
    "# ord = 1 sum(|xi|)\n",
    "# ord = np.inf max(|xi|)\n",
    "\n",
    "def normalizeRows(x):\n",
    "    x_norm = np.linalg.norm(x,axis = 1,keepdims = True)\n",
    "    x = x / x_norm\n",
    "    return x\n",
    "\n",
    "x = np.array([[0,3,4],\n",
    "              [2,6,4]  \n",
    "    ])\n",
    "\n",
    "normalizeRows(x)"
   ]
  },
  {
   "cell_type": "code",
   "execution_count": 29,
   "id": "e4bb2f60",
   "metadata": {},
   "outputs": [
    {
     "data": {
      "text/plain": [
       "array([[9.80897665e-01, 8.94462891e-04, 1.79657674e-02, 1.21052389e-04,\n",
       "        1.21052389e-04],\n",
       "       [8.78679856e-01, 1.18916387e-01, 8.01252314e-04, 8.01252314e-04,\n",
       "        8.01252314e-04]])"
      ]
     },
     "execution_count": 29,
     "metadata": {},
     "output_type": "execute_result"
    }
   ],
   "source": [
    "import numpy as np\n",
    "\n",
    "def softmax(x):\n",
    "    x_exp = np.exp(x);\n",
    "    x_sum = np.sum(x_exp,axis = 1,keepdims = 1)\n",
    "    s = x_exp / x_sum\n",
    "    return s\n",
    "\n",
    "x = np.array([\n",
    "        [9,2,5,0,0],\n",
    "        [7,5,0,0,0]\n",
    "])\n",
    "\n",
    "softmax(x)"
   ]
  },
  {
   "cell_type": "code",
   "execution_count": 34,
   "id": "608087a7",
   "metadata": {},
   "outputs": [
    {
     "data": {
      "text/plain": [
       "array([[81, 18, 18, 81,  0,  0, 18, 45,  0,  0, 81, 18, 45,  0,  0],\n",
       "       [18,  4,  4, 18,  0,  0,  4, 10,  0,  0, 18,  4, 10,  0,  0],\n",
       "       [45, 10, 10, 45,  0,  0, 10, 25,  0,  0, 45, 10, 25,  0,  0],\n",
       "       [ 0,  0,  0,  0,  0,  0,  0,  0,  0,  0,  0,  0,  0,  0,  0],\n",
       "       [ 0,  0,  0,  0,  0,  0,  0,  0,  0,  0,  0,  0,  0,  0,  0],\n",
       "       [63, 14, 14, 63,  0,  0, 14, 35,  0,  0, 63, 14, 35,  0,  0],\n",
       "       [45, 10, 10, 45,  0,  0, 10, 25,  0,  0, 45, 10, 25,  0,  0],\n",
       "       [ 0,  0,  0,  0,  0,  0,  0,  0,  0,  0,  0,  0,  0,  0,  0],\n",
       "       [ 0,  0,  0,  0,  0,  0,  0,  0,  0,  0,  0,  0,  0,  0,  0],\n",
       "       [ 0,  0,  0,  0,  0,  0,  0,  0,  0,  0,  0,  0,  0,  0,  0],\n",
       "       [81, 18, 18, 81,  0,  0, 18, 45,  0,  0, 81, 18, 45,  0,  0],\n",
       "       [18,  4,  4, 18,  0,  0,  4, 10,  0,  0, 18,  4, 10,  0,  0],\n",
       "       [45, 10, 10, 45,  0,  0, 10, 25,  0,  0, 45, 10, 25,  0,  0],\n",
       "       [ 0,  0,  0,  0,  0,  0,  0,  0,  0,  0,  0,  0,  0,  0,  0],\n",
       "       [ 0,  0,  0,  0,  0,  0,  0,  0,  0,  0,  0,  0,  0,  0,  0]])"
      ]
     },
     "execution_count": 34,
     "metadata": {},
     "output_type": "execute_result"
    }
   ],
   "source": [
    "import numpy as np\n",
    "x1 = [9,2,5,0,0,7,5,0,0,0,9,2,5,0,0]\n",
    "x2 = [9,2,2,9,0,0,2,5,0,0,9,2,5,0,0]\n",
    "\n",
    "np.dot(x1,x2)\n",
    "\n",
    "#求向量点积 a dot b = sum(aibi)\n",
    "x3 = np.array([\n",
    "        [2,2,1],\n",
    "        [3,2,1]\n",
    "])\n",
    "\n",
    "x4 = np.array([\n",
    "        [3],\n",
    "        [1],\n",
    "        [5]\n",
    "])\n",
    "\n",
    "#np.dot(x3,x4)\n",
    "\n",
    "#外积 先把a，b转化为一维向量 形成m*n数组\n",
    "#a:m*1 b:1*n \n",
    "\n",
    "np.outer(x1,x2)\n",
    "\n",
    "#np.outer(x3,x4)\n",
    "\n",
    "#multiply 对应每个元素相乘"
   ]
  },
  {
   "cell_type": "code",
   "execution_count": null,
   "id": "6429370b",
   "metadata": {},
   "outputs": [],
   "source": []
  },
  {
   "cell_type": "code",
   "execution_count": null,
   "id": "70a3f822",
   "metadata": {},
   "outputs": [],
   "source": []
  }
 ],
 "metadata": {
  "kernelspec": {
   "display_name": "Python 3",
   "language": "python",
   "name": "python3"
  },
  "language_info": {
   "codemirror_mode": {
    "name": "ipython",
    "version": 3
   },
   "file_extension": ".py",
   "mimetype": "text/x-python",
   "name": "python",
   "nbconvert_exporter": "python",
   "pygments_lexer": "ipython3",
   "version": "3.8.8"
  }
 },
 "nbformat": 4,
 "nbformat_minor": 5
}
