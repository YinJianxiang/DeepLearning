{
 "cells": [
  {
   "cell_type": "code",
   "execution_count": null,
   "id": "abee335c",
   "metadata": {},
   "outputs": [],
   "source": [
    "# 构建具有单隐层的2类分类神经网络\n",
    "# 使用具有非线性激活功能激活函数，例如tanh\n",
    "# 计算交叉熵损失（损失函数）\n",
    "# 向前和向后传播\n",
    "\n"
   ]
  }
 ],
 "metadata": {
  "kernelspec": {
   "display_name": "Python 3",
   "language": "python",
   "name": "python3"
  },
  "language_info": {
   "codemirror_mode": {
    "name": "ipython",
    "version": 3
   },
   "file_extension": ".py",
   "mimetype": "text/x-python",
   "name": "python",
   "nbconvert_exporter": "python",
   "pygments_lexer": "ipython3",
   "version": "3.8.8"
  }
 },
 "nbformat": 4,
 "nbformat_minor": 5
}
