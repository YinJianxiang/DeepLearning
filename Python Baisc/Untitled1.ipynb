{
 "cells": [
  {
   "cell_type": "code",
   "execution_count": 1,
   "id": "31747d97",
   "metadata": {},
   "outputs": [
    {
     "name": "stdout",
     "output_type": "stream",
     "text": [
      "1\n",
      "1\n",
      "2\n",
      "3\n",
      "5\n",
      "8\n"
     ]
    }
   ],
   "source": [
    "class Fibs:\n",
    "    def __init__(self,n = 10):\n",
    "        self.a = 0\n",
    "        self.b = 1\n",
    "        self.n = n\n",
    "    def __iter__(self):\n",
    "        return self\n",
    "    def __next__(self):\n",
    "        self.a,self.b = self.b, self.a + self.b\n",
    "        if self.a > self.n:\n",
    "            raise StopIteration\n",
    "        return self.a\n",
    "\n",
    "f = Fibs(10)\n",
    "\n",
    "for each in f:\n",
    "    print(each)"
   ]
  },
  {
   "cell_type": "code",
   "execution_count": 4,
   "id": "2c9e1094",
   "metadata": {},
   "outputs": [
    {
     "name": "stdout",
     "output_type": "stream",
     "text": [
      "1\n",
      "1\n",
      "2\n",
      "3\n",
      "5\n",
      "8\n",
      "13\n",
      "21\n",
      "34\n",
      "55\n",
      "89\n"
     ]
    }
   ],
   "source": [
    "def fibs():\n",
    "    a = 0\n",
    "    b = 1\n",
    "    while True:\n",
    "        a , b = b, a + b\n",
    "        yield a     \n",
    "for each in fibs():\n",
    "    if each > 100:\n",
    "        break\n",
    "    print(each)\n"
   ]
  },
  {
   "cell_type": "code",
   "execution_count": 8,
   "id": "ec3708a9",
   "metadata": {},
   "outputs": [
    {
     "name": "stdout",
     "output_type": "stream",
     "text": [
      "[0, 1, 4, 9, 16, 25, 36, 49, 64, 81]\n",
      "0\n",
      "1\n",
      "4\n",
      "9\n",
      "16\n",
      "25\n",
      "36\n",
      "49\n",
      "64\n",
      "81\n"
     ]
    }
   ],
   "source": [
    "L = [x * x for x in range(10)]\n",
    "#列表推导式\n",
    "的= {i: i*i for i in range(10)}\n",
    "#字典推导式\n",
    "s = {i for i in [1,1,2,3,4,5,5,6,6,7,8,9,]}\n",
    "#集合推导式\n",
    "g = (x * x for x in range(10))\n",
    "#元组生成器推导式\n"
   ]
  },
  {
   "cell_type": "code",
   "execution_count": 22,
   "id": "204e5151",
   "metadata": {},
   "outputs": [
    {
     "name": "stdout",
     "output_type": "stream",
     "text": [
      "32摄氏度 = 89.60 华氏度\n",
      "99华氏度 = 37.22 摄氏度\n"
     ]
    }
   ],
   "source": [
    "import py13_1 as tc\n",
    "\n",
    "print(\"32摄氏度 = %.2f 华氏度\" % tc.c2f(32))\n",
    "print(\"99华氏度 = %.2f 摄氏度\" % tc.f2c(99))"
   ]
  },
  {
   "cell_type": "code",
   "execution_count": 7,
   "id": "c1a895fc",
   "metadata": {},
   "outputs": [
    {
     "data": {
      "text/plain": [
       "'D:\\\\BaiduNetdiskDownload\\\\Anaconda\\\\lib\\\\timeit.py'"
      ]
     },
     "execution_count": 7,
     "metadata": {},
     "output_type": "execute_result"
    }
   ],
   "source": [
    "import timeit\n",
    "timeit.__file__"
   ]
  },
  {
   "cell_type": "code",
   "execution_count": 1,
   "id": "3b140bc3",
   "metadata": {},
   "outputs": [
    {
     "data": {
      "text/plain": [
       "['D:\\\\DeepLearning\\\\Python Baisc',\n",
       " 'D:\\\\BaiduNetdiskDownload\\\\Anaconda\\\\python38.zip',\n",
       " 'D:\\\\BaiduNetdiskDownload\\\\Anaconda\\\\DLLs',\n",
       " 'D:\\\\BaiduNetdiskDownload\\\\Anaconda\\\\lib',\n",
       " 'D:\\\\BaiduNetdiskDownload\\\\Anaconda',\n",
       " '',\n",
       " 'D:\\\\BaiduNetdiskDownload\\\\Anaconda\\\\lib\\\\site-packages',\n",
       " 'D:\\\\BaiduNetdiskDownload\\\\Anaconda\\\\lib\\\\site-packages\\\\locket-0.2.1-py3.8.egg',\n",
       " 'D:\\\\BaiduNetdiskDownload\\\\Anaconda\\\\lib\\\\site-packages\\\\win32',\n",
       " 'D:\\\\BaiduNetdiskDownload\\\\Anaconda\\\\lib\\\\site-packages\\\\win32\\\\lib',\n",
       " 'D:\\\\BaiduNetdiskDownload\\\\Anaconda\\\\lib\\\\site-packages\\\\Pythonwin',\n",
       " 'D:\\\\BaiduNetdiskDownload\\\\Anaconda\\\\lib\\\\site-packages\\\\IPython\\\\extensions',\n",
       " 'C:\\\\Users\\\\YinJianxiang\\\\.ipython']"
      ]
     },
     "execution_count": 1,
     "metadata": {},
     "output_type": "execute_result"
    }
   ],
   "source": []
  },
  {
   "cell_type": "code",
   "execution_count": null,
   "id": "3c5ffed3",
   "metadata": {},
   "outputs": [],
   "source": []
  }
 ],
 "metadata": {
  "kernelspec": {
   "display_name": "Python 3",
   "language": "python",
   "name": "python3"
  },
  "language_info": {
   "codemirror_mode": {
    "name": "ipython",
    "version": 3
   },
   "file_extension": ".py",
   "mimetype": "text/x-python",
   "name": "python",
   "nbconvert_exporter": "python",
   "pygments_lexer": "ipython3",
   "version": "3.8.8"
  }
 },
 "nbformat": 4,
 "nbformat_minor": 5
}
