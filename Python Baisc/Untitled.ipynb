{
 "cells": [
  {
   "cell_type": "code",
   "execution_count": 1,
   "id": "05bb8dd3",
   "metadata": {},
   "outputs": [
    {
     "name": "stdout",
     "output_type": "stream",
     "text": [
      "Hello World!\n"
     ]
    }
   ],
   "source": [
    "#输出一个字符串\n",
    "print(\"Hello World!\")"
   ]
  },
  {
   "cell_type": "code",
   "execution_count": 2,
   "id": "19f444cf",
   "metadata": {
    "scrolled": true
   },
   "outputs": [
    {
     "data": {
      "text/plain": [
       "15241578780673678515622620750190521"
      ]
     },
     "execution_count": 2,
     "metadata": {},
     "output_type": "execute_result"
    }
   ],
   "source": [
    "#实现大数计算\n",
    "123456789123456789 * 123456789123456789"
   ]
  },
  {
   "cell_type": "code",
   "execution_count": 3,
   "id": "a96afecf",
   "metadata": {},
   "outputs": [
    {
     "name": "stdout",
     "output_type": "stream",
     "text": [
      "Hello World!\n"
     ]
    }
   ],
   "source": [
    "#+号实现字符串相连\n",
    "print(\"Hello \"+\"World!\")"
   ]
  },
  {
   "cell_type": "code",
   "execution_count": 4,
   "id": "e8cb2161",
   "metadata": {},
   "outputs": [
    {
     "name": "stdout",
     "output_type": "stream",
     "text": [
      "Hello World!Hello World!Hello World!\n"
     ]
    }
   ],
   "source": [
    "#*实现字符串的复制\n",
    "print(\"Hello World!\"*3)"
   ]
  },
  {
   "cell_type": "code",
   "execution_count": 10,
   "id": "efe89b49",
   "metadata": {},
   "outputs": [
    {
     "data": {
      "text/plain": [
       "'c:\\\\now'"
      ]
     },
     "execution_count": 10,
     "metadata": {},
     "output_type": "execute_result"
    }
   ],
   "source": [
    "str = r'c:\\now'\n",
    "str"
   ]
  },
  {
   "cell_type": "code",
   "execution_count": 15,
   "id": "9d55bf34",
   "metadata": {},
   "outputs": [
    {
     "data": {
      "text/plain": [
       "[]"
      ]
     },
     "execution_count": 15,
     "metadata": {},
     "output_type": "execute_result"
    }
   ],
   "source": [
    "list(range(1,0))"
   ]
  },
  {
   "cell_type": "code",
   "execution_count": 32,
   "id": "f9243b2c",
   "metadata": {},
   "outputs": [
    {
     "name": "stdout",
     "output_type": "stream",
     "text": [
      "5\n",
      "[1, 2, 3, 4, 5]\n"
     ]
    }
   ],
   "source": [
    "a = [1,2,3,4,5]\n",
    "print(a[-1])"
   ]
  },
  {
   "cell_type": "code",
   "execution_count": 88,
   "id": "f2574601",
   "metadata": {},
   "outputs": [
    {
     "name": "stdout",
     "output_type": "stream",
     "text": [
      "(1, 2, 3) (4, 5, 6)\n"
     ]
    }
   ],
   "source": [
    "a = [1, 2, 3]\n",
    "b = [4, 5, 6]\n",
    "c = [4, 5, 6, 7, 8]\n",
    "zipped_1 = zip(a,b)\n",
    "zip_1 = zip(*zipped_1)\n",
    "print(*zip_1)"
   ]
  },
  {
   "cell_type": "code",
   "execution_count": 137,
   "id": "d4057c2f",
   "metadata": {
    "scrolled": true
   },
   "outputs": [
    {
     "name": "stdout",
     "output_type": "stream",
     "text": [
      "[1, 3, 5, 7, 9]\n"
     ]
    },
    {
     "data": {
      "text/plain": [
       "[0, 2, 4, 6, 8, 10, 12, 14, 16, 18]"
      ]
     },
     "execution_count": 137,
     "metadata": {},
     "output_type": "execute_result"
    }
   ],
   "source": [
    "temp = filter(lambda x: x % 2 ,range(10))\n",
    "print(list(temp))\n",
    "list(map(lambda x: x * 2 ,range(10)))"
   ]
  },
  {
   "cell_type": "code",
   "execution_count": null,
   "id": "f32bf6c7",
   "metadata": {},
   "outputs": [],
   "source": [
    "def fibonacci(n):\n",
    "    if n < 0:\n",
    "        return -1\n",
    "    if n == 0:\n",
    "        return 0\n",
    "    if n == 1 or n == 2:\n",
    "        return 1\n",
    "    else:\n",
    "        return fibonacci(n - 1) + fibonacci(n - 2)\n"
   ]
  },
  {
   "cell_type": "code",
   "execution_count": 39,
   "id": "6ef03bd8",
   "metadata": {
    "scrolled": false
   },
   "outputs": [
    {
     "name": "stdout",
     "output_type": "stream",
     "text": [
      "1 2 3 4 6 \n",
      "False\n",
      "{1, 2, 3, 6, 10}\n"
     ]
    }
   ],
   "source": [
    "a = {1, 4, 4, 3, 3, 6, 2, 2}\n",
    "for x in a:\n",
    "    print(x, end = ' ')\n",
    "print('')\n",
    "print(0 in a)\n",
    "a.add(10)\n",
    "a.remove(4)\n",
    "\n",
    "print(a)"
   ]
  },
  {
   "cell_type": "code",
   "execution_count": 46,
   "id": "bd5e5e23",
   "metadata": {
    "scrolled": true
   },
   "outputs": [
    {
     "name": "stdout",
     "output_type": "stream",
     "text": [
      "出错原因unsupported operand type(s) for +: 'int' and 'str'\n"
     ]
    }
   ],
   "source": [
    "try:\n",
    "    sum = 1 + '1'\n",
    "    with open('1.txt') as f:\n",
    "    print(f.read())\n",
    "    f.close()\n",
    "except (OSError, TypeError) as reason:\n",
    "    print('出错原因' + str(reason))"
   ]
  },
  {
   "cell_type": "code",
   "execution_count": 47,
   "id": "418801c8",
   "metadata": {
    "scrolled": false
   },
   "outputs": [
    {
     "name": "stdout",
     "output_type": "stream",
     "text": [
      "输入一个数：s\n",
      "出错原因 a 必须是数字\n"
     ]
    }
   ],
   "source": [
    "try:\n",
    "    a = input(\"输入一个数：\")\n",
    "    #判断用户输入的是否为数字\n",
    "    if(not a.isdigit()):\n",
    "        raise ValueError(\"a 必须是数字\")\n",
    "except ValueError as reason:\n",
    "    print(\"出错原因\",str(reason))"
   ]
  },
  {
   "cell_type": "code",
   "execution_count": 77,
   "id": "f997cabc",
   "metadata": {},
   "outputs": [
    {
     "name": "stdout",
     "output_type": "stream",
     "text": [
      "当前的位置: 7 0\n"
     ]
    }
   ],
   "source": []
  },
  {
   "cell_type": "code",
   "execution_count": 75,
   "id": "d30c10e3",
   "metadata": {},
   "outputs": [
    {
     "name": "stdout",
     "output_type": "stream",
     "text": [
      "篮球\n"
     ]
    }
   ],
   "source": [
    "class Ball:\n",
    "    def __init__(self, name):\n",
    "        self.name = name\n",
    "    def fun(self):\n",
    "        print(\"%s\" % self.name)\n",
    "a = Ball(\"篮球\")\n",
    "a.fun()"
   ]
  },
  {
   "cell_type": "code",
   "execution_count": 25,
   "id": "fe64133e",
   "metadata": {},
   "outputs": [
    {
     "name": "stdout",
     "output_type": "stream",
     "text": [
      "Hello\n"
     ]
    }
   ],
   "source": [
    "class MyProperty:\n",
    "    def __init__(self, fget = None, fset = None, fdel = None):\n",
    "        self.fget = fget\n",
    "        self.fset = fset\n",
    "        self.fdel = fdel\n",
    "    def __get__(self, instance, owner):\n",
    "        return self.fget(instance)\n",
    "    def __set__(self, instance, value):\n",
    "        self.fset(instance, value)\n",
    "    def __delete__(self, instance):\n",
    "        self.fdel(instance)\n",
    "\n",
    "class C:\n",
    "    def __init__(self):\n",
    "        self._x = None\n",
    "    def getX(self):\n",
    "        return self._x\n",
    "    def setX(self, value):\n",
    "        self._x = value\n",
    "    def delX(self):\n",
    "        del self._x\n",
    "    x = MyProperty(getX, setX, delX)\n",
    "\n",
    "c.x = 'Hello'\n",
    "print(c.x)\n",
    "\n",
    "\n"
   ]
  },
  {
   "cell_type": "code",
   "execution_count": 27,
   "id": "62e293c3",
   "metadata": {},
   "outputs": [
    {
     "data": {
      "text/plain": [
       "78.80000000000001"
      ]
     },
     "execution_count": 27,
     "metadata": {},
     "output_type": "execute_result"
    }
   ],
   "source": [
    "class Celsius:\n",
    "    def __init__(self, value = 26.0):\n",
    "        self.value = float(value)\n",
    "    def __get__(self, instance, owner):\n",
    "        return self.value\n",
    "    def __set__(self, instance, value):\n",
    "        self.value = float(value)\n",
    "\n",
    "class Fahrenheit:\n",
    "    def __get__(self, instance, owner): \n",
    "        return instance.cel * 1.8 + 32\n",
    "    def __set__(self, instance, value):\n",
    "        instance.cel = (float(value) - 32)/1.8\n",
    "        \n",
    "class Temperature:\n",
    "    cel = Celsius()\n",
    "    fah = Fahrenheit()\n"
   ]
  },
  {
   "cell_type": "code",
   "execution_count": 37,
   "id": "532a1b41",
   "metadata": {},
   "outputs": [
    {
     "name": "stdout",
     "output_type": "stream",
     "text": [
      "3\n",
      "9\n",
      "{0: 0, 1: 2, 2: 0, 3: 0, 4: 0}\n",
      "{0: 0, 1: 0, 2: 1, 3: 0, 4: 0}\n"
     ]
    }
   ],
   "source": [
    "#编写一个不可改变的自定义列表，记录每个元素列表中元素的访问次数\n",
    "class myList:\n",
    "    def __init__(self, *args):\n",
    "        self.values = [x for x in args]\n",
    "        self.count = {}.fromkeys(range(len(self.values)), 0)\n",
    "    def __len__(self):\n",
    "        return len(self.values)\n",
    "    def __getitem__(self, key):\n",
    "        self.count[key] += 1\n",
    "        return self.values[key]\n",
    "\n",
    "L1 = myList(1,3,5,7,9)\n",
    "L2 = myList(2,4,6,8,10)\n",
    "print(L1[1])\n",
    "print(L1[1] + L2[2])\n",
    "print(L1.count)\n",
    "print(L2.count)\n"
   ]
  },
  {
   "cell_type": "code",
   "execution_count": 1,
   "id": "dcf0898f",
   "metadata": {},
   "outputs": [
    {
     "name": "stdout",
     "output_type": "stream",
     "text": [
      "1\n",
      "1\n",
      "2\n",
      "3\n",
      "5\n",
      "8\n"
     ]
    }
   ],
   "source": [
    "class Fibs:\n",
    "    def __init__(self,n = 10):\n",
    "        self.a = 0\n",
    "        self.b = 1\n",
    "        self.n = n\n",
    "    def __iter__(self):\n",
    "        return self\n",
    "    def __next__(self):\n",
    "        self.a,self.b = self.b, self.a + self.b\n",
    "        if self.a > self.n:\n",
    "            raise StopIteration\n",
    "        return self.a\n",
    "\n",
    "f = Fibs(10)\n",
    "\n",
    "for each in f:\n",
    "    print(each)"
   ]
  },
  {
   "cell_type": "code",
   "execution_count": 41,
   "id": "e746923f",
   "metadata": {},
   "outputs": [
    {
     "name": "stdout",
     "output_type": "stream",
     "text": [
      "(10,)\n",
      "(2, 5)\n",
      "(2, 5)\n"
     ]
    }
   ],
   "source": [
    "import numpy as np\n",
    "\n",
    "d = np.arange(0,  20, 2)\n",
    "print(d.shape)\n",
    "\n",
    "e = d.reshape(-1, 5)\n",
    "print(e.shape)\n",
    "\n",
    "f = d.reshape(2, -1)\n",
    "print(f.shape)\n"
   ]
  },
  {
   "cell_type": "code",
   "execution_count": 64,
   "id": "a06dd80b",
   "metadata": {},
   "outputs": [
    {
     "data": {
      "text/plain": [
       "array([1, 2, 3, 4, 5, 6, 7, 8])"
      ]
     },
     "execution_count": 64,
     "metadata": {},
     "output_type": "execute_result"
    }
   ],
   "source": [
    "import numpy as np\n",
    "\n",
    "arr1  = np.array([1, 1, 4, 5, 5, 5, 7, 6, 8, 3, 2, 1, 8])\n",
    "np.unique(arr1)"
   ]
  },
  {
   "cell_type": "code",
   "execution_count": 85,
   "id": "1439416b",
   "metadata": {},
   "outputs": [
    {
     "name": "stdout",
     "output_type": "stream",
     "text": [
      "[[ 0.   0.5  1.   1.5  2.   2.5]\n",
      " [ 3.   3.5  4.   4.5  5.   5.5]\n",
      " [ 6.   6.5  7.   7.5  8.   8.5]\n",
      " [ 9.   9.5 10.  10.5 11.  11.5]]\n",
      "[[ 0.  0.  1.  1.  2.  2.]\n",
      " [ 3.  3.  4.  4.  5.  5.]\n",
      " [ 6.  6.  7.  7.  8.  8.]\n",
      " [ 9.  9. 10. 10. 11. 11.]]\n"
     ]
    }
   ],
   "source": [
    "a = np.arange(0, 12, 0.5).reshape(4, -1)\n",
    "#默认按照'%.18e'格式保存数值，以空格分隔\n",
    "np.savetxt(\"a.txt\", a)\n",
    "print(np.loadtxt(\"a.txt\"))\n",
    "#保存为整数，以逗号分隔\n",
    "np.savetxt(\"a.txt\", a, fmt=\"%d\" ,delimiter=\",\")\n",
    "print(np.loadtxt(\"a.txt\", delimiter=\",\"))\n"
   ]
  },
  {
   "cell_type": "code",
   "execution_count": 108,
   "id": "748bc831",
   "metadata": {},
   "outputs": [
    {
     "name": "stdout",
     "output_type": "stream",
     "text": [
      "[['姓名' '年龄' '体重' '身高']\n",
      " ['张三' '30' '75' '165']\n",
      " ['李四' '45' '60' '170']\n",
      " ['王五' '15' '30' '120']]\n"
     ]
    }
   ],
   "source": [
    "import numpy as np\n",
    "with open(\"test.csv\",encoding = 'utf-8') as f:\n",
    "    npData = np.loadtxt(f,str,delimiter = \",\") \n",
    "    #usecols读取指定列\n",
    "    #skiprows = n 跳过前n行\n",
    "    print(npData)"
   ]
  },
  {
   "cell_type": "code",
   "execution_count": 119,
   "id": "4d8218ac",
   "metadata": {},
   "outputs": [
    {
     "name": "stdout",
     "output_type": "stream",
     "text": [
      "[0 1 2 3 4 5 6 7]\n",
      "[ 0  1  3  6 10 15 21 28]\n",
      "[ 0  2  5  9 14 20 27 35]\n"
     ]
    }
   ],
   "source": [
    "import numpy as np\n",
    "import os\n",
    "\n",
    "a = np.arange(8)\n",
    "b = np.add.accumulate(a)\n",
    "c = a + b\n",
    "f = open(\"result.npz\", \"wb\")\n",
    "np.save(f, a)\n",
    "np.save(f, b)\n",
    "np.save(f, c)\n",
    "f.close()\n",
    "f = open(\"result.npz\", \"rb\")\n",
    "print(np.load(f))\n",
    "print(np.load(f))\n",
    "print(np.load(f))"
   ]
  },
  {
   "cell_type": "code",
   "execution_count": null,
   "id": "9c1ed00b",
   "metadata": {},
   "outputs": [],
   "source": []
  }
 ],
 "metadata": {
  "kernelspec": {
   "display_name": "Python 3",
   "language": "python",
   "name": "python3"
  },
  "language_info": {
   "codemirror_mode": {
    "name": "ipython",
    "version": 3
   },
   "file_extension": ".py",
   "mimetype": "text/x-python",
   "name": "python",
   "nbconvert_exporter": "python",
   "pygments_lexer": "ipython3",
   "version": "3.8.8"
  }
 },
 "nbformat": 4,
 "nbformat_minor": 5
}
